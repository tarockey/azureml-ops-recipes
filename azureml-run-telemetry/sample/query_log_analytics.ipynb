{
 "cells": [
  {
   "cell_type": "markdown",
   "metadata": {},
   "source": [
    "# How to query Azure Log Analytics in Jupyter\n",
    "\n",
    "Based on [Use a Jupyter Notebook and kqlmagic extension to analyze data in Azure Data Explorer](https://docs.microsoft.com/en-us/azure/data-explorer/kqlmagic)."
   ]
  },
  {
   "cell_type": "markdown",
   "metadata": {},
   "source": [
    "## Dependencies\n",
    "\n"
   ]
  },
  {
   "cell_type": "code",
   "execution_count": null,
   "metadata": {},
   "outputs": [],
   "source": [
    "import sys\n",
    "!{sys.executable} -m pip install Kqlmagic --no-cache-dir -q --upgrade\n",
    "%reload_ext Kqlmagic"
   ]
  },
  {
   "cell_type": "markdown",
   "metadata": {},
   "source": [
    "## Connect to the Azure Log Analytics workspace\n",
    "\n",
    "* `workspace` parameter is **Workspace ID** of Azure Log Analytics Workspace resource\n",
    "* When logging in for the first time, you will be asked to open Web browser and enter an authentication code (as for the [device code flow](https://docs.microsoft.com/en-us/azure/active-directory/develop/v2-oauth2-auth-code-flow))."
   ]
  },
  {
   "cell_type": "code",
   "execution_count": null,
   "metadata": {},
   "outputs": [],
   "source": [
    "%kql loganalytics://code;workspace='dad7ef45-e5f8-45af-b182-1d78ce0a5f71'"
   ]
  },
  {
   "cell_type": "markdown",
   "metadata": {},
   "source": [
    "## Make a Query\n",
    "\n",
    "[Querying Log Analytics using Kusto](https://docs.microsoft.com/en-us/azure/data-explorer/kusto/query/tutorial?pivots=azuremonitor) \n",
    "\n",
    "> Uncomment `%%capture` below if don't want to suppress query output\n",
    "\n",
    "Query `AppTraces | where SeverityLevel == 3` retrieves all application traces (made with `logging` functions in Python) with severity level equal `3` (error).\n"
   ]
  },
  {
   "cell_type": "code",
   "execution_count": null,
   "metadata": {},
   "outputs": [],
   "source": [
    "%%capture\n",
    "%%kql \n",
    "AppTraces | where SeverityLevel == 3\n"
   ]
  },
  {
   "cell_type": "markdown",
   "metadata": {},
   "source": [
    "## Convert results to Pandas"
   ]
  },
  {
   "cell_type": "code",
   "execution_count": null,
   "metadata": {},
   "outputs": [],
   "source": [
    "df = _kql_raw_result_.to_dataframe()\n",
    "df"
   ]
  },
  {
   "cell_type": "markdown",
   "metadata": {},
   "source": [
    "## More comples query\n",
    "\n",
    "All **errors** from successful Azure ML Runs\n",
    "\n",
    "> Notice there is no `capture`, so the results are displayed in-place. You still can convert it to pandas from `_` or `_kql_raw_result_` variables."
   ]
  },
  {
   "cell_type": "code",
   "execution_count": null,
   "metadata": {},
   "outputs": [],
   "source": [
    "%%kql\n",
    "AppTraces\n",
    "| where Properties.level == \"ERROR\"\n",
    "| extend ExperimentName = tostring(Properties.experiment_name), CorrelationId = tostring(Properties.correlation_id)\n",
    "| join(AmlRunStatusChangedEvent\n",
    "       | where Status == \"Completed\"\n",
    "       | project RunId, RunStatus=Status, WorkspaceName) on $left.CorrelationId ==$right.RunId\n"
   ]
  }
 ],
 "metadata": {
  "interpreter": {
   "hash": "aee8b7b246df8f9039afb4144a1f6fd8d2ca17a180786b69acc140d282b71a49"
  },
  "kernelspec": {
   "display_name": "Python 3.8.7 64-bit",
   "name": "python3"
  },
  "language_info": {
   "codemirror_mode": {
    "name": "ipython",
    "version": 3
   },
   "file_extension": ".py",
   "mimetype": "text/x-python",
   "name": "python",
   "nbconvert_exporter": "python",
   "pygments_lexer": "ipython3",
   "version": "3.8.10"
  },
  "orig_nbformat": 4
 },
 "nbformat": 4,
 "nbformat_minor": 2
}
